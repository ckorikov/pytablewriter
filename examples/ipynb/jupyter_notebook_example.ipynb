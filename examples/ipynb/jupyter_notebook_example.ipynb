{
 "cells": [
  {
   "cell_type": "code",
   "execution_count": 1,
   "source": [
    "import pytablewriter\n",
    "\n",
    "writer = pytablewriter.MarkdownTableWriter()\n",
    "writer.table_name = \"Table formatting for Jupyter Notebook.\"\n",
    "writer.headers = [\"int\", \"float\", \"str\", \"bool\", \"mix\", \"time\"]\n",
    "writer.value_matrix = [\n",
    "    [0, 0.1, \"hoge\", True, 0, \"2017-01-01 03:04:05+0900\"],\n",
    "    [2, \"-2.23\", \"foo\", False, None, \"2017-12-23 12:34:51+0900\"],\n",
    "    [3, 0, \"bar\", \"true\", \"inf\", \"2017-03-03 22:44:55+0900\"],\n",
    "    [-10, -9.9, \"\", \"FALSE\", \"nan\", \"2017-01-01 00:00:00+0900\"],\n",
    "]\n",
    "\n",
    "# All of the table writer classes in pytablewriter can be formatting in Jupyter Notebook table.\n",
    "writer"
   ],
   "outputs": [
    {
     "output_type": "execute_result",
     "data": {
      "text/html": [
       "<table id=\"TableformattingforJupyterNotebook\">\n",
       "    <caption>Table formatting for Jupyter Notebook.</caption>\n",
       "    <thead>\n",
       "        <tr>\n",
       "            <th>int</th>\n",
       "            <th>float</th>\n",
       "            <th>str</th>\n",
       "            <th>bool</th>\n",
       "            <th>mix</th>\n",
       "            <th>time</th>\n",
       "        </tr>\n",
       "    </thead>\n",
       "    <tbody>\n",
       "        <tr>\n",
       "            <td align=\"right\">0</td>\n",
       "            <td align=\"right\">0.10</td>\n",
       "            <td align=\"left\">hoge</td>\n",
       "            <td align=\"left\">True</td>\n",
       "            <td align=\"right\">0</td>\n",
       "            <td align=\"left\">2017-01-01 03:04:05+0900</td>\n",
       "        </tr>\n",
       "        <tr>\n",
       "            <td align=\"right\">2</td>\n",
       "            <td align=\"right\">-2.23</td>\n",
       "            <td align=\"left\">foo</td>\n",
       "            <td align=\"left\">False</td>\n",
       "            <td align=\"right\"></td>\n",
       "            <td align=\"left\">2017-12-23 12:34:51+0900</td>\n",
       "        </tr>\n",
       "        <tr>\n",
       "            <td align=\"right\">3</td>\n",
       "            <td align=\"right\">0.00</td>\n",
       "            <td align=\"left\">bar</td>\n",
       "            <td align=\"left\">True</td>\n",
       "            <td align=\"right\">Infinity</td>\n",
       "            <td align=\"left\">2017-03-03 22:44:55+0900</td>\n",
       "        </tr>\n",
       "        <tr>\n",
       "            <td align=\"right\">-10</td>\n",
       "            <td align=\"right\">-9.90</td>\n",
       "            <td align=\"left\"></td>\n",
       "            <td align=\"left\">False</td>\n",
       "            <td align=\"right\">NaN</td>\n",
       "            <td align=\"left\">2017-01-01 00:00:00+0900</td>\n",
       "        </tr>\n",
       "    </tbody>\n",
       "</table>\n"
      ],
      "text/plain": [
       "# Table formatting for Jupyter Notebook.\n",
       "|int|float|str |bool |  mix   |          time          |\n",
       "|--:|----:|----|-----|-------:|------------------------|\n",
       "|  0| 0.10|hoge|True |       0|2017-01-01 03:04:05+0900|\n",
       "|  2|-2.23|foo |False|        |2017-12-23 12:34:51+0900|\n",
       "|  3| 0.00|bar |True |Infinity|2017-03-03 22:44:55+0900|\n",
       "|-10|-9.90|    |False|     NaN|2017-01-01 00:00:00+0900|"
      ]
     },
     "metadata": {},
     "execution_count": 1
    }
   ],
   "metadata": {}
  },
  {
   "cell_type": "code",
   "execution_count": null,
   "source": [],
   "outputs": [],
   "metadata": {}
  }
 ],
 "metadata": {
  "kernelspec": {
   "name": "python3",
   "display_name": "Python 3.8.11 64-bit ('3.8.11')"
  },
  "language_info": {
   "codemirror_mode": {
    "name": "ipython",
    "version": 3
   },
   "file_extension": ".py",
   "mimetype": "text/x-python",
   "name": "python",
   "nbconvert_exporter": "python",
   "pygments_lexer": "ipython3",
   "version": "3.8.11"
  },
  "interpreter": {
   "hash": "e1c230d0d7838db35080269a6918dd30585979c6f8544df43693174aeb261eb3"
  }
 },
 "nbformat": 4,
 "nbformat_minor": 2
}